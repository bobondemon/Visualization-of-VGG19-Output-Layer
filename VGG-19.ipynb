{
 "cells": [
  {
   "cell_type": "markdown",
   "metadata": {},
   "source": [
    "## Ref **[link](https://github.com/machrisaa/tensorflow-vgg/blob/master/vgg19.py)**\n",
    "This is a practice of using VGG-19 model to predict images\n",
    "[vgg-19.npy](https://dl.dropboxusercontent.com/u/50333326/vgg19.npy)"
   ]
  },
  {
   "cell_type": "code",
   "execution_count": 1,
   "metadata": {
    "collapsed": false
   },
   "outputs": [
    {
     "name": "stdout",
     "output_type": "stream",
     "text": [
      "npy file loaded\n"
     ]
    }
   ],
   "source": [
    "import os\n",
    "import tensorflow as tf\n",
    "import numpy as np\n",
    "import time\n",
    "import matplotlib.pyplot as plt\n",
    "import cv2\n",
    "\n",
    "vgg19_npy_path='./vgg19.npy'\n",
    "data_dict = np.load(vgg19_npy_path, encoding='latin1').item()\n",
    "print(\"npy file loaded\")"
   ]
  },
  {
   "cell_type": "markdown",
   "metadata": {},
   "source": [
    "### load variable from npy to build the VGG\n",
    "rgb image [batch, height, width, 3] values scaled [0, 1]"
   ]
  },
  {
   "cell_type": "code",
   "execution_count": 2,
   "metadata": {
    "collapsed": true
   },
   "outputs": [],
   "source": [
    "# VGG-19 architecture\n",
    "VGG_MEAN = [103.939, 116.779, 123.68]\n",
    "def VGG19(rgb):\n",
    "    start_time = time.time()\n",
    "    print(\"build model started\")\n",
    "    rgb_scaled = rgb * 255.0\n",
    "    # Convert RGB to BGR\n",
    "    red, green, blue = tf.split(3, 3, rgb_scaled)\n",
    "    assert red.get_shape().as_list()[1:] == [224, 224, 1]\n",
    "    assert green.get_shape().as_list()[1:] == [224, 224, 1]\n",
    "    assert blue.get_shape().as_list()[1:] == [224, 224, 1]\n",
    "    bgr = tf.concat(3, [\n",
    "        blue - VGG_MEAN[0],\n",
    "        green - VGG_MEAN[1],\n",
    "        red - VGG_MEAN[2],\n",
    "    ])\n",
    "    assert bgr.get_shape().as_list()[1:] == [224, 224, 3]\n",
    "    \n",
    "    conv1_1 = conv_layer(bgr, \"conv1_1\")\n",
    "    conv1_2 = conv_layer(conv1_1, \"conv1_2\")\n",
    "    pool1 = max_pool(conv1_2, 'pool1')\n",
    "    \n",
    "    conv2_1 = conv_layer(pool1, \"conv2_1\")\n",
    "    conv2_2 = conv_layer(conv2_1, \"conv2_2\")\n",
    "    pool2 = max_pool(conv2_2, 'pool2')\n",
    "    \n",
    "    conv3_1 = conv_layer(pool2, \"conv3_1\")\n",
    "    conv3_2 = conv_layer(conv3_1, \"conv3_2\")\n",
    "    conv3_3 = conv_layer(conv3_2, \"conv3_3\")\n",
    "    conv3_4 = conv_layer(conv3_3, \"conv3_4\")\n",
    "    pool3 = max_pool(conv3_4, 'pool3')\n",
    "    \n",
    "    conv4_1 = conv_layer(pool3, \"conv4_1\")\n",
    "    conv4_2 = conv_layer(conv4_1, \"conv4_2\")\n",
    "    conv4_3 = conv_layer(conv4_2, \"conv4_3\")\n",
    "    conv4_4 = conv_layer(conv4_3, \"conv4_4\")\n",
    "    pool4 = max_pool(conv4_4, 'pool4')\n",
    "    \n",
    "    conv5_1 = conv_layer(pool4, \"conv5_1\")\n",
    "    conv5_2 = conv_layer(conv5_1, \"conv5_2\")\n",
    "    conv5_3 = conv_layer(conv5_2, \"conv5_3\")\n",
    "    conv5_4 = conv_layer(conv5_3, \"conv5_4\")\n",
    "    pool5 = max_pool(conv5_4, 'pool5')\n",
    "    \n",
    "    fc6 = fc_layer(pool5, \"fc6\")\n",
    "    assert fc6.get_shape().as_list()[1:] == [4096]\n",
    "    relu6 = tf.nn.relu(fc6)\n",
    "    \n",
    "    fc7 = fc_layer(relu6, \"fc7\")\n",
    "    relu7 = tf.nn.relu(fc7)\n",
    "    \n",
    "    fc8 = fc_layer(relu7, \"fc8\")\n",
    "    \n",
    "    prob = tf.nn.softmax(fc8, name=\"prob\")\n",
    "    data_dict = None\n",
    "    print(\"build model finished: %ds\" % (time.time() - start_time))\n",
    "    return prob\n",
    "    \n",
    "def avg_pool(bottom, name):\n",
    "    return tf.nn.avg_pool(bottom, ksize=[1, 2, 2, 1], strides=[1, 2, 2, 1], padding='SAME', name=name)\n",
    "\n",
    "def max_pool(bottom, name):\n",
    "    return tf.nn.max_pool(bottom, ksize=[1, 2, 2, 1], strides=[1, 2, 2, 1], padding='SAME', name=name)\n",
    "\n",
    "def conv_layer(bottom, name):\n",
    "    with tf.variable_scope(name):\n",
    "        filt = get_conv_filter(name)\n",
    "\n",
    "        conv = tf.nn.conv2d(bottom, filt, [1, 1, 1, 1], padding='SAME')\n",
    "\n",
    "        conv_biases = get_bias(name)\n",
    "        bias = tf.nn.bias_add(conv, conv_biases)\n",
    "\n",
    "        relu = tf.nn.relu(bias)\n",
    "        return relu\n",
    "    \n",
    "def fc_layer(bottom, name):\n",
    "    with tf.variable_scope(name):\n",
    "        shape = bottom.get_shape().as_list()\n",
    "        dim = 1\n",
    "        for d in shape[1:]:\n",
    "            dim *= d\n",
    "        x = tf.reshape(bottom, [-1, dim])\n",
    "\n",
    "        weights = get_fc_weight(name)\n",
    "        biases = get_bias(name)\n",
    "\n",
    "        # Fully connected layer. Note that the '+' operation automatically\n",
    "        # broadcasts the biases.\n",
    "        fc = tf.nn.bias_add(tf.matmul(x, weights), biases)\n",
    "\n",
    "        return fc\n",
    "    \n",
    "def get_conv_filter(name):\n",
    "    return tf.constant(data_dict[name][0], name=\"filter\")\n",
    "\n",
    "def get_bias(name):\n",
    "    return tf.constant(data_dict[name][1], name=\"biases\")\n",
    "\n",
    "def get_fc_weight(name):\n",
    "    return tf.constant(data_dict[name][0], name=\"weights\")"
   ]
  },
  {
   "cell_type": "markdown",
   "metadata": {},
   "source": [
    "### test the images"
   ]
  },
  {
   "cell_type": "code",
   "execution_count": 3,
   "metadata": {
    "collapsed": false
   },
   "outputs": [
    {
     "name": "stdout",
     "output_type": "stream",
     "text": [
      "<class 'numpy.float64'>\n",
      "(2, 224, 224, 3)\n",
      "build model started\n",
      "build model finished: 0s\n",
      "[[  1.45316363e-08   1.13730803e-08   2.29404922e-08 ...,   6.51443877e-09\n",
      "    2.06070325e-08   2.51220218e-08]\n",
      " [  3.14101499e-06   5.54723592e-05   1.45765455e-06 ...,   1.63589630e-06\n",
      "    4.67866448e-05   2.09387144e-04]]\n"
     ]
    }
   ],
   "source": [
    "img1 = plt.imread(\"./test_data/tiger.jpeg\")\n",
    "img2 = plt.imread(\"./test_data/puzzle.jpeg\")\n",
    "batch1 = cv2.resize(img1, (224, 224), interpolation=cv2.INTER_AREA)/255.0\n",
    "batch2 = cv2.resize(img2, (224, 224), interpolation=cv2.INTER_AREA)/255.0\n",
    "batch1 = batch1.reshape((1, 224, 224, 3))\n",
    "batch2 = batch2.reshape((1, 224, 224, 3))\n",
    "print(type(batch1[0][0][0][1]))\n",
    "\n",
    "batch = np.concatenate((batch1, batch2), 0)\n",
    "print(batch.shape)\n",
    "\n",
    "images = tf.placeholder(\"float\", [2, 224, 224, 3])\n",
    "probs = VGG19(images)\n",
    "\n",
    "with tf.Session() as sess:\n",
    "    sess.run(tf.global_variables_initializer())\n",
    "    out = sess.run(probs, feed_dict={images: batch})\n",
    "print(out)"
   ]
  },
  {
   "cell_type": "code",
   "execution_count": 9,
   "metadata": {
    "collapsed": false
   },
   "outputs": [
    {
     "name": "stdout",
     "output_type": "stream",
     "text": [
      "292\n",
      "584\n"
     ]
    }
   ],
   "source": [
    "plt.figure()\n",
    "plt.bar(range(len(out[0])),out[0])\n",
    "maxidx = np.argmax(out[0])\n",
    "print(maxidx)\n",
    "maxidx = np.argmax(out[1])\n",
    "print(maxidx)"
   ]
  },
  {
   "cell_type": "code",
   "execution_count": null,
   "metadata": {
    "collapsed": true
   },
   "outputs": [],
   "source": []
  }
 ],
 "metadata": {
  "anaconda-cloud": {},
  "kernelspec": {
   "display_name": "Python [conda root]",
   "language": "python",
   "name": "conda-root-py"
  },
  "language_info": {
   "codemirror_mode": {
    "name": "ipython",
    "version": 3
   },
   "file_extension": ".py",
   "mimetype": "text/x-python",
   "name": "python",
   "nbconvert_exporter": "python",
   "pygments_lexer": "ipython3",
   "version": "3.5.2"
  }
 },
 "nbformat": 4,
 "nbformat_minor": 2
}
